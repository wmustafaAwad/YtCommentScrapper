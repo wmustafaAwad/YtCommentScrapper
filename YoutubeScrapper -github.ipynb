{
 "cells": [
  {
   "cell_type": "markdown",
   "metadata": {},
   "source": [
    "## Imports"
   ]
  },
  {
   "cell_type": "code",
   "execution_count": 1,
   "metadata": {},
   "outputs": [
    {
     "name": "stdout",
     "output_type": "stream",
     "text": [
      "Requirement already satisfied: selenium in c:\\users\\waleedtemp\\anaconda3\\lib\\site-packages (3.141.0)\n",
      "Requirement already satisfied: urllib3 in c:\\users\\waleedtemp\\anaconda3\\lib\\site-packages (from selenium) (1.24.1)\n"
     ]
    },
    {
     "name": "stderr",
     "output_type": "stream",
     "text": [
      "You are using pip version 18.0, however version 19.0.3 is available.\n",
      "You should consider upgrading via the 'python -m pip install --upgrade pip' command.\n"
     ]
    }
   ],
   "source": [
    "!pip install selenium\n",
    "from os import system\n",
    "from selenium import webdriver\n",
    "import time\n",
    "import pandas as pd"
   ]
  },
  {
   "cell_type": "markdown",
   "metadata": {},
   "source": [
    "## Function Definitions"
   ]
  },
  {
   "cell_type": "code",
   "execution_count": 1,
   "metadata": {
    "collapsed": true
   },
   "outputs": [],
   "source": [
    "\n",
    "def scroll_by_max_scroll(scroll_step,max_scroll):\n",
    "    scroller=scroll_step\n",
    "    while scroller<max_scroll:\n",
    "        driver.execute_script('window.scrollTo(1,'+str(scroller)+');')\n",
    "        system('cls') #on windows only\n",
    "        print(f'scrolled {scroller*100/max_scroll}%')\n",
    "        scroller+=scroll_step\n",
    "        time.sleep(scroll_time)\n",
    "    print(f'scrolled {100}%')\n",
    "    \n",
    "    \n",
    "def scroll_by_n_comments(scroll_step,min_comments):\n",
    "    comments=[]\n",
    "    scroller=scroll_step\n",
    "    while len(comments)<min_comments:\n",
    "        driver.execute_script('window.scrollTo(1,'+str(scroller)+');')\n",
    "        system('cls') #on windows only\n",
    "        print(f'scrolled {len(comments)*100/min_comments}%')\n",
    "        scroller+=scroll_step\n",
    "        time.sleep(scroll_time)\n",
    "        comments=driver.find_elements_by_xpath('//*[@id=\"content-text\"]')\n",
    "\n",
    "    print(f'scrolled {100}%')\n",
    "    \n",
    "def get_text(comm):\n",
    "    return comm.text\n"
   ]
  },
  {
   "cell_type": "markdown",
   "metadata": {},
   "source": [
    "## Main Code"
   ]
  },
  {
   "cell_type": "code",
   "execution_count": null,
   "metadata": {
    "collapsed": true
   },
   "outputs": [],
   "source": [
    "\n",
    "################################################################\n",
    "#### Change below variables only ###\n",
    "youtube_link='https://www.youtube.com/watch?v=zolg78kfAW4&lc=UgwrZ5fZr9Qq0YWZHup4AaABAg'\n",
    "load_time=8           #in seconds\n",
    "min_comments=100      #This is the number of comments you get (you may get a few more)\n",
    "scroll_step=500       #Could change, needn't change.\n",
    "scroll_time=2         #shorten this time if you have a faster internet connection.\n",
    "                         #This is the time it waits for between each scroll.\n",
    "chromedriver_link=''  #Do NOT LEAVE THIS EMPTY !!!! Enter the chromedriver.exe path here\n",
    "file_name=''           #Filename you want, without the extension eg: mydata\n",
    "directory=''           #Directory and folder name to save in, eg: D:\\My Files\n",
    "save_path=directory+file_name+'.csv' \n",
    "################################################################\n",
    "\n",
    "### Main Code ###\n",
    "driver = webdriver.Chrome(executable_path=chromedriver_link)\n",
    "driver.get(youtube_link)\n",
    "time.sleep(load_time) #wait for page to load\n",
    "scroll_by_n_comments(scroll_step,min_comments)\n",
    "\n",
    "\n",
    "    \n",
    "comments=driver.find_elements_by_xpath('//*[@id=\"content-text\"]')\n",
    "data=list(map(get_text,comments))\n",
    "driver.quit()\n",
    "print(f'Received: {len(comments)} comments')\n",
    "    "
   ]
  },
  {
   "cell_type": "markdown",
   "metadata": {},
   "source": [
    "## Remove Emoji's:"
   ]
  },
  {
   "cell_type": "code",
   "execution_count": 28,
   "metadata": {
    "collapsed": true
   },
   "outputs": [],
   "source": [
    "df=pd.DataFrame(data=data, columns = ['comment'])\n",
    "def deEmojify(inputString):\n",
    "    return inputString.encode('ascii', 'ignore').decode('ascii')\n",
    "#from: https://stackoverflow.com/questions/33404752/removing-emojis-from-a-string-in-python\n",
    "df['comment']=df['comment'].apply(deEmojify)\n",
    "\n",
    "#I didn't keep the emoji's because the original corpus didn't have the emojis anyway, so they will not be detected.\n",
    "print(df.head(50))"
   ]
  },
  {
   "cell_type": "code",
   "execution_count": 30,
   "metadata": {
    "collapsed": true
   },
   "outputs": [],
   "source": [
    "#Save to csv\n",
    "df.to_csv (save_path, header=True) "
   ]
  },
  {
   "cell_type": "code",
   "execution_count": null,
   "metadata": {
    "collapsed": true
   },
   "outputs": [],
   "source": []
  }
 ],
 "metadata": {
  "kernelspec": {
   "display_name": "Python 3",
   "language": "python",
   "name": "python3"
  },
  "language_info": {
   "codemirror_mode": {
    "name": "ipython",
    "version": 3
   },
   "file_extension": ".py",
   "mimetype": "text/x-python",
   "name": "python",
   "nbconvert_exporter": "python",
   "pygments_lexer": "ipython3",
   "version": "3.6.1"
  }
 },
 "nbformat": 4,
 "nbformat_minor": 2
}
